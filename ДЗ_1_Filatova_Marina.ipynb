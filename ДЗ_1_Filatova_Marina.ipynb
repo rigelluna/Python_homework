{
  "nbformat": 4,
  "nbformat_minor": 0,
  "metadata": {
    "kernelspec": {
      "display_name": "Python 3",
      "language": "python",
      "name": "python3"
    },
    "language_info": {
      "codemirror_mode": {
        "name": "ipython",
        "version": 3
      },
      "file_extension": ".py",
      "mimetype": "text/x-python",
      "name": "python",
      "nbconvert_exporter": "python",
      "pygments_lexer": "ipython3",
      "version": "3.8.2"
    },
    "colab": {
      "name": "ДЗ-1 Filatova Marina.ipynb",
      "provenance": [],
      "collapsed_sections": []
    }
  },
  "cells": [
    {
      "cell_type": "markdown",
      "metadata": {
        "id": "t1PU5FRPQbK_"
      },
      "source": [
        "## Задание 1: (условия if-elif-else)\n",
        "\n",
        "В ячейке ниже - код \"определителя усталости\". Давайте его улучшим:\n",
        "\n",
        "- добавьте условие для случаев,если пользователь вводит число больше 10\n",
        "\n",
        "- добавьте еще одно или два условия, чтобы разделение на категории усталости было еще точнее\n",
        "\n",
        "Подсказка: может помочь нарисовать себе схему условий на бумаге\n"
      ]
    },
    {
      "cell_type": "code",
      "metadata": {
        "id": "NmsF8E_bQbLG",
        "colab": {
          "base_uri": "https://localhost:8080/"
        },
        "outputId": "5409fd3f-5915-4f64-c4a4-2f88d0297731"
      },
      "source": [
        "# определитель усталости\n",
        "\n",
        "a = float(input('по шкале от 0 до 10, напишите, насколько Вы устали: '))\n",
        "if a < 0.7:\n",
        "    print('Кажется, Вы совсем не устали')\n",
        "elif 0.7 <= a <= 4.8:\n",
        "    print('Вы немного устали')\n",
        "# Ваш код дальше:\n",
        "elif 4.8 < a <= 7.1:\n",
        "  print('Похоже, Вы устали')\n",
        "elif 7.1 < a <= 10.0:\n",
        "  print('Кажется, Вы сильно устали')\n",
        "else: print('Введите корретные данные')      "
      ],
      "execution_count": 103,
      "outputs": [
        {
          "output_type": "stream",
          "name": "stdout",
          "text": [
            "по шкале от 0 до 10, напишите, насколько Вы устали: 2.3\n",
            "Вы немного устали\n"
          ]
        }
      ]
    },
    {
      "cell_type": "markdown",
      "metadata": {
        "id": "gc1G5XWaQbLJ"
      },
      "source": [
        "### Задача 2 (списки и циклы)\n",
        "Робот, выбирающий пользователю коктейль:\n",
        "\n",
        "Представьте, что Вы разрабатываете (фрагмент) электронного помощника для ресторана. \n",
        "\n",
        "У Вас есть список коктейлей, где каждый коктейль представлен в виде списка ингридиентов (у нас получается список списков). Программа рандомным образом должна выбрать один из коктейлей (т.е. один из списков в общем списке) и вывести на экран сообщение: \"Сегодня в вашем коктейле будет: \" и сам список ингридиентов\n",
        "\n",
        "Но есть одно условие: в некоторые из списков по ошибке попал \"лосось\". Строку \"лосось\" нужно убрать *(здесь вам поможет один метод работы со списками)* ,но так как лосось есть не везде, нужно предварительно проверить его наличие в списке."
      ]
    },
    {
      "cell_type": "code",
      "metadata": {
        "id": "18UeSe3_QbLK",
        "colab": {
          "base_uri": "https://localhost:8080/"
        },
        "outputId": "cd2773c5-b3d2-48b2-b48c-69f781f2d5b6"
      },
      "source": [
        "import random\n",
        "\n",
        "cocktails = [\n",
        "    [\"мартини\",\"грейпфрутовый сок\",\"жасмин\",\"тоник\",\"лосось\"],\n",
        "    [\"клубника\",\"какао\",\"мята\",\"марсала\"],\n",
        "    [\"водка\",\"томатный сок\",\"лимонный сок\",\"вустерширский соус\",\"черный перец\",\"сельдерей\",\"лосось\"],\n",
        "    [\"джин\",\"вермут\",\"ликер мараскино\",\"апельсины\",\"коктейльная вишня\",\"лосось\"],\n",
        "    [\"ром\",\"авокадо\",\"сахарный сироп\",\"сливки\",\"лимонный сок\",\"лед\"],\n",
        "    [\"красный вермут\",\"тоник\",\"апельсины\",\"лосось\"],\n",
        "    [\"только чай\"]\n",
        "        ]\n",
        "\n",
        "#Ваш код (1 вариант)\n",
        "salmon = 'лосось'\n",
        "cocktail = random.choice(cocktails)\n",
        "if cocktail.count(salmon) != 0:\n",
        "    cocktail.remove(salmon)\n",
        "print('Сегодня в вашем коктейле будет: ', cocktail)\n"
      ],
      "execution_count": 31,
      "outputs": [
        {
          "output_type": "stream",
          "name": "stdout",
          "text": [
            "Сегодня в вашем коктейле будет:  ['красный вермут', 'тоник', 'апельсины']\n"
          ]
        }
      ]
    },
    {
      "cell_type": "code",
      "metadata": {
        "colab": {
          "base_uri": "https://localhost:8080/"
        },
        "id": "N39KclmpLBAW",
        "outputId": "3bb120ed-4960-4eed-d396-612539e68ea3"
      },
      "source": [
        "import random\n",
        "\n",
        "cocktails = [\n",
        "    [\"мартини\",\"грейпфрутовый сок\",\"жасмин\",\"тоник\",\"лосось\"],\n",
        "    [\"клубника\",\"какао\",\"мята\",\"марсала\"],\n",
        "    [\"водка\",\"томатный сок\",\"лимонный сок\",\"вустерширский соус\",\"черный перец\",\"сельдерей\",\"лосось\"],\n",
        "    [\"джин\",\"вермут\",\"ликер мараскино\",\"апельсины\",\"коктейльная вишня\",\"лосось\"],\n",
        "    [\"ром\",\"авокадо\",\"сахарный сироп\",\"сливки\",\"лимонный сок\",\"лед\"],\n",
        "    [\"красный вермут\",\"тоник\",\"апельсины\",\"лосось\"],\n",
        "    [\"только чай\"]\n",
        "        ]\n",
        "\n",
        "#Ваш код (2 вариант)\n",
        "salmon = 'лосось'\n",
        "cocktail = random.choice(cocktails)\n",
        "if salmon in cocktail:\n",
        "  salmon_position = cocktail.index(salmon)\n",
        "  del cocktail[salmon_position]\n",
        "print('Сегодня в вашем коктейле будет: ', cocktail)"
      ],
      "execution_count": 23,
      "outputs": [
        {
          "output_type": "stream",
          "name": "stdout",
          "text": [
            "Сегодня в вашем коктейле будет:  ['водка', 'томатный сок', 'лимонный сок', 'вустерширский соус', 'черный перец', 'сельдерей']\n"
          ]
        }
      ]
    },
    {
      "cell_type": "markdown",
      "metadata": {
        "id": "XmPrc4FbQbLL"
      },
      "source": [
        "### Задание 3 (словари)"
      ]
    },
    {
      "cell_type": "markdown",
      "metadata": {
        "id": "Qva27DHjQbLL"
      },
      "source": [
        "Алиса коллекционирует открыткм, которые она получила из разных стран от друзей. Она знает, что Мария прислала ей открытку из Лондона, Лоренцо -- из Милана, Олег - из Канберры, Ханс -- из Кальгари, Марк -- тоже из Милана, Алекс - из Кракова, и совсем недавно пришла открытка от Юлии из Мурманска. \n",
        "\n",
        "Сейчас ее архив выглядит вот так:\n",
        "```\n",
        "postcards = {\n",
        "    \"Maria\":\"London\",\n",
        "    \"Lorenzo\":\"Milan\",\n",
        "    \"Oleg\":\"Canberra\",\n",
        "    \"Hans\":\"Calgary\",\n",
        "    \"Mark\":\"Milan\",\n",
        "    \"Alex\":\"Krakow\",\n",
        "    \"Julia\":\"Murmansk\"\n",
        "    \n",
        "}\n",
        "```\n",
        "\n",
        "Однажды Алиса показала Вам свою бумажную коллекцию, и Вы заметили неточности: \n",
        "\n",
        "- в архиве не хватает двух открыток: от Петры из Парижа и от Ивана из Москвы. Добавьте их в архив Алисы.\n",
        "\n",
        "- открытка, присланная Олегом на самом деле не из Канберры, а из Сиднея.\n",
        "Исправьте город на верный, изменив значение по ключу в словаре.\n",
        "\n",
        "- Алиса говорит, что в ее коллекции более 10 уникальных городов. Сколько их на самом деле? Выведите названия этих городов."
      ]
    },
    {
      "cell_type": "code",
      "metadata": {
        "id": "RQXbyweEQbLM",
        "colab": {
          "base_uri": "https://localhost:8080/"
        },
        "outputId": "d051a6b6-bdd1-42d9-81bb-1f0449d4bcbd"
      },
      "source": [
        "postcards = {\n",
        "    \"Maria\":\"London\",\n",
        "    \"Lorenzo\":\"Milan\",\n",
        "    \"Oleg\":\"Canberra\",\n",
        "    \"Hans\":\"Calgary\",\n",
        "    \"Mark\":\"Milan\",\n",
        "    \"Alex\":\"Krakow\",\n",
        "    \"Julia\":\"Murmansk\"\n",
        "}\n",
        "print(postcards) \n",
        "new_postcards = {\"Petra\":\"Paris\", \"Ivan\":\"Moscow\"}\n",
        "postcards.update(new_postcards)\n",
        "print(postcards)"
      ],
      "execution_count": 90,
      "outputs": [
        {
          "output_type": "stream",
          "name": "stdout",
          "text": [
            "{'Maria': 'London', 'Lorenzo': 'Milan', 'Oleg': 'Canberra', 'Hans': 'Calgary', 'Mark': 'Milan', 'Alex': 'Krakow', 'Julia': 'Murmansk'}\n",
            "{'Maria': 'London', 'Lorenzo': 'Milan', 'Oleg': 'Canberra', 'Hans': 'Calgary', 'Mark': 'Milan', 'Alex': 'Krakow', 'Julia': 'Murmansk', 'Petra': 'Paris', 'Ivan': 'Moscow'}\n"
          ]
        }
      ]
    },
    {
      "cell_type": "code",
      "metadata": {
        "id": "L4XfwEuqQbLN",
        "colab": {
          "base_uri": "https://localhost:8080/"
        },
        "outputId": "40c47caf-6de7-4aed-e8ca-36ac52641a9b"
      },
      "source": [
        "postcards = {\n",
        "    \"Maria\":\"London\",\n",
        "    \"Lorenzo\":\"Milan\",\n",
        "    \"Oleg\":\"Canberra\",\n",
        "    \"Hans\":\"Calgary\",\n",
        "    \"Mark\":\"Milan\",\n",
        "    \"Alex\":\"Krakow\",\n",
        "    \"Julia\":\"Murmansk\"\n",
        "}\n",
        "# print(postcards)\n",
        "new_postcards = {\"Petra\":\"Paris\", \"Ivan\":\"Moscow\"}\n",
        "postcards.update(new_postcards)\n",
        "print(postcards)\n",
        "\n",
        "postcards['Oleg'] = 'Sydney'\n",
        "\n",
        "print(postcards)"
      ],
      "execution_count": 95,
      "outputs": [
        {
          "output_type": "stream",
          "name": "stdout",
          "text": [
            "{'Maria': 'London', 'Lorenzo': 'Milan', 'Oleg': 'Canberra', 'Hans': 'Calgary', 'Mark': 'Milan', 'Alex': 'Krakow', 'Julia': 'Murmansk', 'Petra': 'Paris', 'Ivan': 'Moscow'}\n",
            "{'Maria': 'London', 'Lorenzo': 'Milan', 'Oleg': 'Sydney', 'Hans': 'Calgary', 'Mark': 'Milan', 'Alex': 'Krakow', 'Julia': 'Murmansk', 'Petra': 'Paris', 'Ivan': 'Moscow'}\n"
          ]
        }
      ]
    },
    {
      "cell_type": "code",
      "metadata": {
        "id": "sSLX8_AqQbLO",
        "colab": {
          "base_uri": "https://localhost:8080/"
        },
        "outputId": "1a44ea58-cb6e-428c-a42c-1c6aa238db27"
      },
      "source": [
        "postcards = {\n",
        "    \"Maria\":\"London\",\n",
        "    \"Lorenzo\":\"Milan\",\n",
        "    \"Oleg\":\"Canberra\",\n",
        "    \"Hans\":\"Calgary\",\n",
        "    \"Mark\":\"Milan\",\n",
        "    \"Alex\":\"Krakow\",\n",
        "    \"Julia\":\"Murmansk\"\n",
        "}\n",
        "# print(postcards)\n",
        "new_postcards = {\"Petra\":\"Paris\", \"Ivan\":\"Moscow\"}\n",
        "postcards.update(new_postcards)\n",
        "# print(postcards)\n",
        "\n",
        "postcards['Oleg'] = 'Sydney'\n",
        "\n",
        "# print(postcards)\n",
        "\n",
        "print(postcards.values())\n",
        "\n",
        "print(set(postcards.values()))\n",
        "len(set(postcards.values()))\n"
      ],
      "execution_count": 104,
      "outputs": [
        {
          "output_type": "stream",
          "name": "stdout",
          "text": [
            "dict_values(['London', 'Milan', 'Sydney', 'Calgary', 'Milan', 'Krakow', 'Murmansk', 'Paris', 'Moscow'])\n",
            "{'Paris', 'Krakow', 'Milan', 'Calgary', 'London', 'Murmansk', 'Moscow', 'Sydney'}\n"
          ]
        },
        {
          "output_type": "execute_result",
          "data": {
            "text/plain": [
              "8"
            ]
          },
          "metadata": {},
          "execution_count": 104
        }
      ]
    }
  ]
}